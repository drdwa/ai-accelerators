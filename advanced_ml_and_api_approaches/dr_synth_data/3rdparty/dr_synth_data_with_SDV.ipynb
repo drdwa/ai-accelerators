{
	"cells": [
		{
			"id": "65acf85891dd89fea0720c09",
			"cell_type": "markdown",
			"source": "# Synthetic data capability using 3rd party integrations\n\n## Summary\n\nThis notebook outlines how to generate and use synthetic datasaets using 3rd party tools such as https://sdv.dev/ (https://github.com/sdv-dev/SDV/tree/main)\n\nOther platforms are also available e.g. https://docs.synthesized.io/tdk/latest/",
			"metadata": {
				"collapsed": false,
				"scrolled": false,
				"datarobot": {
					"language": "markdown"
				},
				"hide_code": false,
				"hide_results": false,
				"disable_run": false,
				"chart_settings": null,
				"custom_metric_settings": null,
				"dataframe_view_options": null
			}
		},
		{
			"id": "65acf85891dd89fea0720c0a",
			"cell_type": "markdown",
			"source": "## Setup\n\n### Import libraries\nNOTE: Remember to restart kernel",
			"metadata": {
				"collapsed": false,
				"scrolled": false,
				"datarobot": {
					"language": "markdown"
				},
				"hide_code": false,
				"hide_results": false,
				"disable_run": false,
				"chart_settings": null,
				"custom_metric_settings": null,
				"dataframe_view_options": null
			}
		},
		{
			"id": "65acf85891dd89fea0720c0b",
			"cell_type": "code",
			"source": "%pip install sdv",
			"metadata": {
				"collapsed": false,
				"scrolled": false,
				"datarobot": {
					"language": "python"
				},
				"hide_code": false,
				"hide_results": false,
				"disable_run": false,
				"chart_settings": null,
				"custom_metric_settings": null,
				"dataframe_view_options": null
			},
			"outputs": [
				{
					"output_type": "execute_result",
					"execution_count": 2,
					"data": {
						"text/plain": "Collecting sdv\n  Downloading sdv-1.9.0-py2.py3-none-any.whl (139 kB)\n\r\u001b[2K     \u001b[90m━━━━━━━━━━━━━━━━━━━━━━━━━━━━━━━━━━━━━━\u001b[0m \u001b[32m140.0/140.0 kB\u001b[0m \u001b[31m11.8 MB/s\u001b[0m eta \u001b[36m0:00:00\u001b[0m\n\u001b[?25hCollecting boto3<2,>=1.15.0\n  Downloading boto3-1.34.23-py3-none-any.whl (139 kB)\n\r\u001b[2K     \u001b[90m━━━━━━━━━━━━━━━━━━━━━━━━━━━━━━━━━━━━━━\u001b[0m \u001b[32m139.3/139.3 kB\u001b[0m \u001b[31m14.2 MB/s\u001b[0m eta \u001b[36m0:00:00\u001b[0m\n\u001b[?25hCollecting botocore<2,>=1.18\n  Downloading botocore-1.34.23-py3-none-any.whl (11.9 MB)\n\r\u001b[2K     \u001b[90m━━━━━━━━━━━━━━━━━━━━━━━━━━━━━━━━━━━━━━━━\u001b[0m \u001b[32m11.9/11.9 MB\u001b[0m \u001b[31m59.7 MB/s\u001b[0m eta \u001b[36m0:00:00\u001b[0m\n\u001b[?25hRequirement already satisfied: cloudpickle<3.0,>=2.1.0 in /etc/system/kernel/.venv/lib64/python3.11/site-packages (from sdv) (2.2.1)\nRequirement already satisfied: graphviz<1,>=0.13.2 in /etc/system/kernel/.venv/lib64/python3.11/site-packages (from sdv) (0.20.1)\nRequirement already satisfied: tqdm<5,>=4.15 in /etc/system/kernel/.venv/lib64/python3.11/site-packages (from sdv) (4.64.1)\nCollecting copulas<0.10,>=0.9.0\n  Downloading copulas-0.9.2-py2.py3-none-any.whl (54 kB)\n\r\u001b[2K     \u001b[90m━━━━━━━━━━━━━━━━━━━━━━━━━━━━━━━━━━━━━━━━\u001b[0m \u001b[32m54.6/54.6 kB\u001b[0m \u001b[31m10.5 MB/s\u001b[0m eta \u001b[36m0:00:00\u001b[0m\n\u001b[?25hCollecting ctgan<0.9,>=0.8\n  Downloading ctgan-0.8.0-py2.py3-none-any.whl (27 kB)\nCollecting deepecho<0.6,>=0.5\n  Downloading deepecho-0.5.0-py2.py3-none-any.whl (29 kB)\nCollecting rdt<2,>=1.9.0\n  Downloading rdt-1.9.1-py2.py3-none-any.whl (74 kB)\n\r\u001b[2K     \u001b[90m━━━━━━━━━━━━━━━━━━━━━━━━━━━━━━━━━━━━━━━━\u001b[0m \u001b[32m74.9/74.9 kB\u001b[0m \u001b[31m11.7 MB/s\u001b[0m eta \u001b[36m0:00:00\u001b[0m\n\u001b[?25hCollecting sdmetrics<0.14,>=0.13.0\n  Downloading sdmetrics-0.13.0-py2.py3-none-any.whl (170 kB)\n\r\u001b[2K     \u001b[90m━━━━━━━━━━━━━━━━━━━━━━━━━━━━━━━━━━━━━━\u001b[0m \u001b[32m170.7/170.7 kB\u001b[0m \u001b[31m23.4 MB/s\u001b[0m eta \u001b[36m0:00:00\u001b[0m\n\u001b[?25hRequirement already satisfied: numpy<2,>=1.23.3 in /etc/system/kernel/.venv/lib64/python3.11/site-packages (from sdv) (1.26.2)\nRequirement already satisfied: pandas>=1.5.0 in /etc/system/kernel/.venv/lib64/python3.11/site-packages (from sdv) (1.5.1)\nCollecting jmespath<2.0.0,>=0.7.1\n  Downloading jmespath-1.0.1-py3-none-any.whl (20 kB)\nCollecting s3transfer<0.11.0,>=0.10.0\n  Downloading s3transfer-0.10.0-py3-none-any.whl (82 kB)\n\r\u001b[2K     \u001b[90m━━━━━━━━━━━━━━━━━━━━━━━━━━━━━━━━━━━━━━━━\u001b[0m \u001b[32m82.1/82.1 kB\u001b[0m \u001b[31m13.7 MB/s\u001b[0m eta \u001b[36m0:00:00\u001b[0m\n\u001b[?25hRequirement already satisfied: python-dateutil<3.0.0,>=2.1 in /etc/system/kernel/.venv/lib64/python3.11/site-packages (from botocore<2,>=1.18->sdv) (2.8.2)\nRequirement already satisfied: urllib3<2.1,>=1.25.4 in /etc/system/kernel/.venv/lib64/python3.11/site-packages (from botocore<2,>=1.18->sdv) (1.26.18)\nRequirement already satisfied: matplotlib<4,>=3.6.0 in /etc/system/kernel/.venv/lib64/python3.11/site-packages (from copulas<0.10,>=0.9.0->sdv) (3.6.1)\nRequirement already satisfied: scipy<2,>=1.9.2 in /etc/system/kernel/.venv/lib64/python3.11/site-packages (from copulas<0.10,>=0.9.0->sdv) (1.10.1)\nRequirement already satisfied: scikit-learn<2,>=1.1.3 in /etc/system/kernel/.venv/lib64/python3.11/site-packages (from ctgan<0.9,>=0.8->sdv) (1.3.2)\nCollecting torch>=2.0.0\n  Downloading torch-2.1.2-cp311-cp311-manylinux1_x86_64.whl (670.2 MB)\n\u001b[?25l     \u001b[90m━━━━━━━━━━━━━━━━━━━━━━━━━━━━━━━━━━━━━━━━\u001b[0m \u001b[32m0.0/670.2 MB\u001b[0m \u001b[31m?\u001b[0m eta \u001b[36m-:--:--\u001b[0m"
					},
					"metadata": {}
				},
				{
					"output_type": "execute_result",
					"execution_count": 2,
					"data": {
						"text/plain": "\r\u001b[2K     \u001b[91m━━━━━━━━━━━━━━━━━━━━━━━\u001b[0m\u001b[90m╺\u001b[0m\u001b[90m━━━━━━━━━━━━━\u001b[0m \u001b[32m420.6/670.2 MB\u001b[0m \u001b[31m121.5 MB/s\u001b[0m eta \u001b[36m0:00:03\u001b[0m"
					},
					"metadata": {}
				},
				{
					"output_type": "execute_result",
					"execution_count": 2,
					"data": {
						"text/plain": "\r\u001b[2K     \u001b[91m━━━━━━━━━━━━━━━━━━━━━━━━━━━━━━━━━━━━\u001b[0m\u001b[91m╸\u001b[0m \u001b[32m670.2/670.2 MB\u001b[0m \u001b[31m112.5 MB/s\u001b[0m eta \u001b[36m0:00:01\u001b[0m"
					},
					"metadata": {}
				},
				{
					"output_type": "execute_result",
					"execution_count": 2,
					"data": {
						"text/plain": "\r\u001b[2K     \u001b[91m━━━━━━━━━━━━━━━━━━━━━━━━━━━━━━━━━━━━\u001b[0m\u001b[91m╸\u001b[0m \u001b[32m670.2/670.2 MB\u001b[0m \u001b[31m112.5 MB/s\u001b[0m eta \u001b[36m0:00:01\u001b[0m"
					},
					"metadata": {}
				},
				{
					"output_type": "execute_result",
					"execution_count": 2,
					"data": {
						"text/plain": "\r\u001b[2K     \u001b[90m━━━━━━━━━━━━━━━━━━━━━━━━━━━━━━━━━━━━━━━\u001b[0m \u001b[32m670.2/670.2 MB\u001b[0m \u001b[31m1.9 MB/s\u001b[0m eta \u001b[36m0:00:00\u001b[0m\n\u001b[?25hRequirement already satisfied: pytz>=2020.1 in /etc/system/kernel/.venv/lib64/python3.11/site-packages (from pandas>=1.5.0->sdv) (2023.3.post1)\nCollecting Faker<20,>=17\n  Downloading Faker-19.13.0-py3-none-any.whl (1.7 MB)\n\r\u001b[2K     \u001b[90m━━━━━━━━━━━━━━━━━━━━━━━━━━━━━━━━━━━━━━━━\u001b[0m \u001b[32m1.7/1.7 MB\u001b[0m \u001b[31m70.3 MB/s\u001b[0m eta \u001b[36m0:00:00\u001b[0m\n\u001b[?25hRequirement already satisfied: plotly<6,>=5.10.0 in /etc/system/kernel/.venv/lib64/python3.11/site-packages (from sdmetrics<0.14,>=0.13.0->sdv) (5.18.0)\nRequirement already satisfied: contourpy>=1.0.1 in /etc/system/kernel/.venv/lib64/python3.11/site-packages (from matplotlib<4,>=3.6.0->copulas<0.10,>=0.9.0->sdv) (1.2.0)\nRequirement already satisfied: cycler>=0.10 in /etc/system/kernel/.venv/lib64/python3.11/site-packages (from matplotlib<4,>=3.6.0->copulas<0.10,>=0.9.0->sdv) (0.12.1)\nRequirement already satisfied: fonttools>=4.22.0 in /etc/system/kernel/.venv/lib64/python3.11/site-packages (from matplotlib<4,>=3.6.0->copulas<0.10,>=0.9.0->sdv) (4.47.0)\nRequirement already satisfied: kiwisolver>=1.0.1 in /etc/system/kernel/.venv/lib64/python3.11/site-packages (from matplotlib<4,>=3.6.0->copulas<0.10,>=0.9.0->sdv) (1.4.5)\nRequirement already satisfied: packaging>=20.0 in /etc/system/kernel/.venv/lib64/python3.11/site-packages (from matplotlib<4,>=3.6.0->copulas<0.10,>=0.9.0->sdv) (23.2)\nRequirement already satisfied: pillow>=6.2.0 in /etc/system/kernel/.venv/lib64/python3.11/site-packages (from matplotlib<4,>=3.6.0->copulas<0.10,>=0.9.0->sdv) (10.1.0)\nRequirement already satisfied: pyparsing>=2.2.1 in /etc/system/kernel/.venv/lib64/python3.11/site-packages (from matplotlib<4,>=3.6.0->copulas<0.10,>=0.9.0->sdv) (3.1.1)\nRequirement already satisfied: tenacity>=6.2.0 in /etc/system/kernel/.venv/lib64/python3.11/site-packages (from plotly<6,>=5.10.0->sdmetrics<0.14,>=0.13.0->sdv) (8.2.3)\nRequirement already satisfied: six>=1.5 in /etc/system/kernel/.venv/lib64/python3.11/site-packages (from python-dateutil<3.0.0,>=2.1->botocore<2,>=1.18->sdv) (1.16.0)\nRequirement already satisfied: joblib>=1.1.1 in /etc/system/kernel/.venv/lib64/python3.11/site-packages (from scikit-learn<2,>=1.1.3->ctgan<0.9,>=0.8->sdv) (1.2.0)\nRequirement already satisfied: threadpoolctl>=2.0.0 in /etc/system/kernel/.venv/lib64/python3.11/site-packages (from scikit-learn<2,>=1.1.3->ctgan<0.9,>=0.8->sdv) (3.2.0)\nRequirement already satisfied: filelock in /etc/system/kernel/.venv/lib64/python3.11/site-packages (from torch>=2.0.0->ctgan<0.9,>=0.8->sdv) (3.13.1)\nRequirement already satisfied: typing-extensions in /etc/system/kernel/.venv/lib64/python3.11/site-packages (from torch>=2.0.0->ctgan<0.9,>=0.8->sdv) (4.9.0)\nCollecting sympy\n  Downloading sympy-1.12-py3-none-any.whl (5.7 MB)\n\r\u001b[2K     \u001b[90m━━━━━━━━━━━━━━━━━━━━━━━━━━━━━━━━━━━━━━━━\u001b[0m \u001b[32m5.7/5.7 MB\u001b[0m \u001b[31m74.1 MB/s\u001b[0m eta \u001b[36m0:00:00\u001b[0m\n\u001b[?25hRequirement already satisfied: networkx in /etc/system/kernel/.venv/lib64/python3.11/site-packages (from torch>=2.0.0->ctgan<0.9,>=0.8->sdv) (3.2.1)\nRequirement already satisfied: jinja2 in /etc/system/kernel/.venv/lib64/python3.11/site-packages (from torch>=2.0.0->ctgan<0.9,>=0.8->sdv) (3.1.2)\nRequirement already satisfied: fsspec in /etc/system/kernel/.venv/lib64/python3.11/site-packages (from torch>=2.0.0->ctgan<0.9,>=0.8->sdv) (2023.12.2)\nCollecting nvidia-cuda-nvrtc-cu12==12.1.105\n  Downloading nvidia_cuda_nvrtc_cu12-12.1.105-py3-none-manylinux1_x86_64.whl (23.7 MB)\n\r\u001b[2K     \u001b[90m━━━━━━━━━━━━━━━━━━━━━━━━━━━━━━━━━━━━━━━━\u001b[0m \u001b[32m23.7/23.7 MB\u001b[0m \u001b[31m49.6 MB/s\u001b[0m eta \u001b[36m0:00:00\u001b[0m\n\u001b[?25h"
					},
					"metadata": {}
				},
				{
					"output_type": "execute_result",
					"execution_count": 2,
					"data": {
						"text/plain": "Collecting nvidia-cuda-runtime-cu12==12.1.105\n  Downloading nvidia_cuda_runtime_cu12-12.1.105-py3-none-manylinux1_x86_64.whl (823 kB)\n\r\u001b[2K     \u001b[90m━━━━━━━━━━━━━━━━━━━━━━━━━━━━━━━━━━━━━━\u001b[0m \u001b[32m823.6/823.6 kB\u001b[0m \u001b[31m61.9 MB/s\u001b[0m eta \u001b[36m0:00:00\u001b[0m\n\u001b[?25hCollecting nvidia-cuda-cupti-cu12==12.1.105\n  Downloading nvidia_cuda_cupti_cu12-12.1.105-py3-none-manylinux1_x86_64.whl (14.1 MB)\n\r\u001b[2K     \u001b[90m━━━━━━━━━━━━━━━━━━━━━━━━━━━━━━━━━━━━━━━━\u001b[0m \u001b[32m14.1/14.1 MB\u001b[0m \u001b[31m67.6 MB/s\u001b[0m eta \u001b[36m0:00:00\u001b[0m\n\u001b[?25hCollecting nvidia-cudnn-cu12==8.9.2.26\n  Downloading nvidia_cudnn_cu12-8.9.2.26-py3-none-manylinux1_x86_64.whl (731.7 MB)\n\r\u001b[2K     \u001b[91m━━━━━━━━━━━━━━━━━\u001b[0m\u001b[91m╸\u001b[0m\u001b[90m━━━━━━━━━━━━━━━━━━━\u001b[0m \u001b[32m349.4/731.7 MB\u001b[0m \u001b[31m104.4 MB/s\u001b[0m eta \u001b[36m0:00:04\u001b[0m"
					},
					"metadata": {}
				},
				{
					"output_type": "execute_result",
					"execution_count": 2,
					"data": {
						"text/plain": "\r\u001b[2K     \u001b[91m━━━━━━━━━━━━━━━━━━━━━━━━━━━━━━━━━━━━\u001b[0m\u001b[91m╸\u001b[0m \u001b[32m723.3/731.7 MB\u001b[0m \u001b[31m112.3 MB/s\u001b[0m eta \u001b[36m0:00:01\u001b[0m"
					},
					"metadata": {}
				},
				{
					"output_type": "execute_result",
					"execution_count": 2,
					"data": {
						"text/plain": "\r\u001b[2K     \u001b[91m━━━━━━━━━━━━━━━━━━━━━━━━━━━━━━━━━━━━\u001b[0m\u001b[91m╸\u001b[0m \u001b[32m731.7/731.7 MB\u001b[0m \u001b[31m109.1 MB/s\u001b[0m eta \u001b[36m0:00:01\u001b[0m"
					},
					"metadata": {}
				},
				{
					"output_type": "execute_result",
					"execution_count": 2,
					"data": {
						"text/plain": "\r\u001b[2K     \u001b[91m━━━━━━━━━━━━━━━━━━━━━━━━━━━━━━━━━━━━\u001b[0m\u001b[91m╸\u001b[0m \u001b[32m731.7/731.7 MB\u001b[0m \u001b[31m109.1 MB/s\u001b[0m eta \u001b[36m0:00:01\u001b[0m"
					},
					"metadata": {}
				},
				{
					"output_type": "execute_result",
					"execution_count": 2,
					"data": {
						"text/plain": "\r\u001b[2K     \u001b[90m━━━━━━━━━━━━━━━━━━━━━━━━━━━━━━━━━━━━━━━\u001b[0m \u001b[32m731.7/731.7 MB\u001b[0m \u001b[31m1.4 MB/s\u001b[0m eta \u001b[36m0:00:00\u001b[0m\n\u001b[?25hCollecting nvidia-cublas-cu12==12.1.3.1\n  Downloading nvidia_cublas_cu12-12.1.3.1-py3-none-manylinux1_x86_64.whl (410.6 MB)\n\r\u001b[2K     \u001b[91m━━━━━━━━━━━━━━━━━━━━━━━━\u001b[0m\u001b[90m╺\u001b[0m\u001b[90m━━━━━━━━━━━━\u001b[0m \u001b[32m266.4/410.6 MB\u001b[0m \u001b[31m111.3 MB/s\u001b[0m eta \u001b[36m0:00:02\u001b[0m"
					},
					"metadata": {}
				},
				{
					"output_type": "execute_result",
					"execution_count": 2,
					"data": {
						"text/plain": "\r\u001b[2K     \u001b[91m━━━━━━━━━━━━━━━━━━━━━━━━━━━━━━━━━━━━\u001b[0m\u001b[91m╸\u001b[0m \u001b[32m410.6/410.6 MB\u001b[0m \u001b[31m130.0 MB/s\u001b[0m eta \u001b[36m0:00:01\u001b[0m"
					},
					"metadata": {}
				},
				{
					"output_type": "execute_result",
					"execution_count": 2,
					"data": {
						"text/plain": "\r\u001b[2K     \u001b[90m━━━━━━━━━━━━━━━━━━━━━━━━━━━━━━━━━━━━━━━\u001b[0m \u001b[32m410.6/410.6 MB\u001b[0m \u001b[31m3.4 MB/s\u001b[0m eta \u001b[36m0:00:00\u001b[0m\n\u001b[?25hCollecting nvidia-cufft-cu12==11.0.2.54\n  Downloading nvidia_cufft_cu12-11.0.2.54-py3-none-manylinux1_x86_64.whl (121.6 MB)\n\r\u001b[2K     \u001b[90m━━━━━━━━━━━━━━━━━━━━━━━━━━━━━━━━━━━━━━\u001b[0m \u001b[32m121.6/121.6 MB\u001b[0m \u001b[31m13.8 MB/s\u001b[0m eta \u001b[36m0:00:00\u001b[0m\n\u001b[?25hCollecting nvidia-curand-cu12==10.3.2.106\n  Downloading nvidia_curand_cu12-10.3.2.106-py3-none-manylinux1_x86_64.whl (56.5 MB)\n\r\u001b[2K     \u001b[91m━━━━━━━━━━━━━━━━━━━━━━━━━━━━━━━━━━━━\u001b[0m\u001b[90m╺\u001b[0m\u001b[90m━━\u001b[0m \u001b[32m52.3/56.5 MB\u001b[0m \u001b[31m117.4 MB/s\u001b[0m eta \u001b[36m0:00:01\u001b[0m"
					},
					"metadata": {}
				},
				{
					"output_type": "execute_result",
					"execution_count": 2,
					"data": {
						"text/plain": "\r\u001b[2K     \u001b[90m━━━━━━━━━━━━━━━━━━━━━━━━━━━━━━━━━━━━━━━━\u001b[0m \u001b[32m56.5/56.5 MB\u001b[0m \u001b[31m28.3 MB/s\u001b[0m eta \u001b[36m0:00:00\u001b[0m\n\u001b[?25hCollecting nvidia-cusolver-cu12==11.4.5.107\n  Downloading nvidia_cusolver_cu12-11.4.5.107-py3-none-manylinux1_x86_64.whl (124.2 MB)\n\r\u001b[2K     \u001b[90m━━━━━━━━━━━━━━━━━━━━━━━━━━━━━━━━━━━━━━\u001b[0m \u001b[32m124.2/124.2 MB\u001b[0m \u001b[31m12.3 MB/s\u001b[0m eta \u001b[36m0:00:00\u001b[0m\n\u001b[?25hCollecting nvidia-cusparse-cu12==12.1.0.106\n  Downloading nvidia_cusparse_cu12-12.1.0.106-py3-none-manylinux1_x86_64.whl (196.0 MB)\n\r\u001b[2K     \u001b[91m━━━━━━━━━━━━━━━━━━━━━━━\u001b[0m\u001b[90m╺\u001b[0m\u001b[90m━━━━━━━━━━━━━\u001b[0m \u001b[32m122.1/196.0 MB\u001b[0m \u001b[31m113.0 MB/s\u001b[0m eta \u001b[36m0:00:01\u001b[0m"
					},
					"metadata": {}
				},
				{
					"output_type": "execute_result",
					"execution_count": 2,
					"data": {
						"text/plain": "\r\u001b[2K     \u001b[90m━━━━━━━━━━━━━━━━━━━━━━━━━━━━━━━━━━━━━━━\u001b[0m \u001b[32m196.0/196.0 MB\u001b[0m \u001b[31m5.5 MB/s\u001b[0m eta \u001b[36m0:00:00\u001b[0m\n\u001b[?25hCollecting nvidia-nccl-cu12==2.18.1\n  Downloading nvidia_nccl_cu12-2.18.1-py3-none-manylinux1_x86_64.whl (209.8 MB)\n\r\u001b[2K     \u001b[91m━━━━━━━━━━━━━━━━━━\u001b[0m\u001b[90m╺\u001b[0m\u001b[90m━━━━━━━━━━━━━━━━━━\u001b[0m \u001b[32m104.2/209.8 MB\u001b[0m \u001b[31m116.0 MB/s\u001b[0m eta \u001b[36m0:00:01\u001b[0m"
					},
					"metadata": {}
				},
				{
					"output_type": "execute_result",
					"execution_count": 2,
					"data": {
						"text/plain": "\r\u001b[2K     \u001b[90m━━━━━━━━━━━━━━━━━━━━━━━━━━━━━━━━━━━━━━━\u001b[0m \u001b[32m209.8/209.8 MB\u001b[0m \u001b[31m8.7 MB/s\u001b[0m eta \u001b[36m0:00:00\u001b[0m\n\u001b[?25hCollecting nvidia-nvtx-cu12==12.1.105\n  Downloading nvidia_nvtx_cu12-12.1.105-py3-none-manylinux1_x86_64.whl (99 kB)\n\r\u001b[2K     \u001b[90m━━━━━━━━━━━━━━━━━━━━━━━━━━━━━━━━━━━━━━━━\u001b[0m \u001b[32m99.1/99.1 kB\u001b[0m \u001b[31m19.1 MB/s\u001b[0m eta \u001b[36m0:00:00\u001b[0m\n\u001b[?25hCollecting triton==2.1.0\n  Downloading triton-2.1.0-0-cp311-cp311-manylinux2014_x86_64.manylinux_2_17_x86_64.whl (89.2 MB)\n\r\u001b[2K     \u001b[91m━━━━━━━━━━━━━━━━━━━━━━━━━━━━━━━━━━━━━━\u001b[0m\u001b[91m╸\u001b[0m \u001b[32m89.2/89.2 MB\u001b[0m \u001b[31m120.3 MB/s\u001b[0m eta \u001b[36m0:00:01\u001b[0m"
					},
					"metadata": {}
				},
				{
					"output_type": "execute_result",
					"execution_count": 2,
					"data": {
						"text/plain": "\r\u001b[2K     \u001b[90m━━━━━━━━━━━━━━━━━━━━━━━━━━━━━━━━━━━━━━━━\u001b[0m \u001b[32m89.2/89.2 MB\u001b[0m \u001b[31m19.2 MB/s\u001b[0m eta \u001b[36m0:00:00\u001b[0m\n\u001b[?25hCollecting nvidia-nvjitlink-cu12\n  Downloading nvidia_nvjitlink_cu12-12.3.101-py3-none-manylinux1_x86_64.whl (20.5 MB)\n\r\u001b[2K     \u001b[90m━━━━━━━━━━━━━━━━━━━━━━━━━━━━━━━━━━━━━━━━\u001b[0m \u001b[32m20.5/20.5 MB\u001b[0m \u001b[31m44.1 MB/s\u001b[0m eta \u001b[36m0:00:00\u001b[0m\n\u001b[?25hRequirement already satisfied: MarkupSafe>=2.0 in /etc/system/kernel/.venv/lib64/python3.11/site-packages (from jinja2->torch>=2.0.0->ctgan<0.9,>=0.8->sdv) (2.1.3)\nCollecting mpmath>=0.19\n  Downloading mpmath-1.3.0-py3-none-any.whl (536 kB)\n\r\u001b[2K     \u001b[90m━━━━━━━━━━━━━━━━━━━━━━━━━━━━━━━━━━━━━━\u001b[0m \u001b[32m536.2/536.2 kB\u001b[0m \u001b[31m44.9 MB/s\u001b[0m eta \u001b[36m0:00:00\u001b[0m\n\u001b[?25h"
					},
					"metadata": {}
				},
				{
					"output_type": "execute_result",
					"execution_count": 2,
					"data": {
						"text/plain": "Installing collected packages: mpmath, triton, sympy, nvidia-nvtx-cu12, nvidia-nvjitlink-cu12, nvidia-nccl-cu12, nvidia-curand-cu12, nvidia-cufft-cu12, nvidia-cuda-runtime-cu12, nvidia-cuda-nvrtc-cu12, nvidia-cuda-cupti-cu12, nvidia-cublas-cu12, jmespath, nvidia-cusparse-cu12, nvidia-cudnn-cu12, Faker, botocore, s3transfer, rdt, nvidia-cusolver-cu12, copulas, torch, sdmetrics, boto3, deepecho, ctgan, sdv\n"
					},
					"metadata": {}
				},
				{
					"output_type": "execute_result",
					"execution_count": 2,
					"data": {
						"text/plain": "Successfully installed Faker-19.13.0 boto3-1.34.23 botocore-1.34.23 copulas-0.9.2 ctgan-0.8.0 deepecho-0.5.0 jmespath-1.0.1 mpmath-1.3.0 nvidia-cublas-cu12-12.1.3.1 nvidia-cuda-cupti-cu12-12.1.105 nvidia-cuda-nvrtc-cu12-12.1.105 nvidia-cuda-runtime-cu12-12.1.105 nvidia-cudnn-cu12-8.9.2.26 nvidia-cufft-cu12-11.0.2.54 nvidia-curand-cu12-10.3.2.106 nvidia-cusolver-cu12-11.4.5.107 nvidia-cusparse-cu12-12.1.0.106 nvidia-nccl-cu12-2.18.1 nvidia-nvjitlink-cu12-12.3.101 nvidia-nvtx-cu12-12.1.105 rdt-1.9.1 s3transfer-0.10.0 sdmetrics-0.13.0 sdv-1.9.0 sympy-1.12 torch-2.1.2 triton-2.1.0\n\u001b[1m[\u001b[0m\u001b[34;49mnotice\u001b[0m\u001b[1;39;49m]\u001b[0m\u001b[39;49m A new release of pip available: \u001b[0m\u001b[31;49m22.3.1\u001b[0m\u001b[39;49m -> \u001b[0m\u001b[32;49m23.3.2\u001b[0m\n\u001b[1m[\u001b[0m\u001b[34;49mnotice\u001b[0m\u001b[1;39;49m]\u001b[0m\u001b[39;49m To update, run: \u001b[0m\u001b[32;49mpip install --upgrade pip\u001b[0m\nNote: you may need to restart the kernel to use updated packages.\n"
					},
					"metadata": {}
				}
			],
			"execution_count": 2
		},
		{
			"id": "65acf85891dd89fea0720c0c",
			"cell_type": "markdown",
			"source": "## Load example data",
			"metadata": {
				"collapsed": false,
				"scrolled": false,
				"datarobot": {
					"language": "markdown"
				},
				"hide_code": false,
				"hide_results": true,
				"disable_run": false,
				"chart_settings": null,
				"custom_metric_settings": null,
				"dataframe_view_options": null
			}
		},
		{
			"id": "65acf85891dd89fea0720c0d",
			"cell_type": "code",
			"source": "from sdv.datasets.demo import download_demo\n\nreal_data, metadata = download_demo(\n    modality='single_table',\n    dataset_name='fake_hotel_guests'\n)",
			"metadata": {
				"collapsed": false,
				"scrolled": false,
				"datarobot": {
					"language": "python"
				},
				"hide_code": false,
				"hide_results": false,
				"disable_run": false,
				"chart_settings": null,
				"custom_metric_settings": null,
				"dataframe_view_options": null
			},
			"outputs": [],
			"execution_count": null
		},
		{
			"id": "65acf85891dd89fea0720c0e",
			"cell_type": "markdown",
			"source": "## Data Frame for Output",
			"metadata": {
				"collapsed": false,
				"scrolled": false,
				"datarobot": {
					"language": "markdown"
				},
				"hide_code": false,
				"hide_results": false,
				"disable_run": false,
				"chart_settings": null,
				"custom_metric_settings": null,
				"dataframe_view_options": null
			}
		},
		{
			"id": "65acf85891dd89fea0720c0f",
			"cell_type": "code",
			"source": "real_data.head()\n# Read the CSV into a DataFrame\n#df = pd.read_csv(csv_file)",
			"metadata": {
				"collapsed": false,
				"scrolled": false,
				"datarobot": {
					"language": "python"
				},
				"hide_code": false,
				"hide_results": false,
				"disable_run": false,
				"chart_settings": null,
				"custom_metric_settings": null,
				"dataframe_view_options": null
			},
			"outputs": [
				{
					"output_type": "execute_result",
					"execution_count": 4,
					"data": {
						"text/plain": "               guest_email  has_rewards room_type  amenities_fee checkin_date  \\\n0  michaelsanders@shaw.net        False     BASIC          37.89  27 Dec 2020   \n1        randy49@brown.biz        False     BASIC          24.37  30 Dec 2020   \n2    webermelissa@neal.com         True    DELUXE           0.00  17 Sep 2020   \n3          gsims@terry.com        False     BASIC            NaN  28 Dec 2020   \n4        misty33@smith.biz        False     BASIC          16.45  05 Apr 2020   \n\n  checkout_date  room_rate                                    billing_address  \\\n0   29 Dec 2020     131.23        49380 Rivers Street\\nSpencerville, AK 68265   \n1   02 Jan 2021     114.43          88394 Boyle Meadows\\nConleyberg, TN 22063   \n2   18 Sep 2020     368.33  0323 Lisa Station Apt. 208\\nPort Thomas, LA 82585   \n3   31 Dec 2020     115.61          77 Massachusetts Ave\\nCambridge, MA 02139   \n4           NaN     122.41             1234 Corporate Drive\\nBoston, MA 02116   \n\n    credit_card_number  \n0  4075084747483975747  \n1      180072822063468  \n2       38983476971380  \n3     4969551998845740  \n4     3558512986488983  ",
						"text/html": "<div>\n<style scoped>\n    .dataframe tbody tr th:only-of-type {\n        vertical-align: middle;\n    }\n\n    .dataframe tbody tr th {\n        vertical-align: top;\n    }\n\n    .dataframe thead th {\n        text-align: right;\n    }\n</style>\n<table border=\"1\" class=\"dataframe\">\n  <thead>\n    <tr style=\"text-align: right;\">\n      <th></th>\n      <th>guest_email</th>\n      <th>has_rewards</th>\n      <th>room_type</th>\n      <th>amenities_fee</th>\n      <th>checkin_date</th>\n      <th>checkout_date</th>\n      <th>room_rate</th>\n      <th>billing_address</th>\n      <th>credit_card_number</th>\n    </tr>\n  </thead>\n  <tbody>\n    <tr>\n      <th>0</th>\n      <td>michaelsanders@shaw.net</td>\n      <td>False</td>\n      <td>BASIC</td>\n      <td>37.89</td>\n      <td>27 Dec 2020</td>\n      <td>29 Dec 2020</td>\n      <td>131.23</td>\n      <td>49380 Rivers Street\\nSpencerville, AK 68265</td>\n      <td>4075084747483975747</td>\n    </tr>\n    <tr>\n      <th>1</th>\n      <td>randy49@brown.biz</td>\n      <td>False</td>\n      <td>BASIC</td>\n      <td>24.37</td>\n      <td>30 Dec 2020</td>\n      <td>02 Jan 2021</td>\n      <td>114.43</td>\n      <td>88394 Boyle Meadows\\nConleyberg, TN 22063</td>\n      <td>180072822063468</td>\n    </tr>\n    <tr>\n      <th>2</th>\n      <td>webermelissa@neal.com</td>\n      <td>True</td>\n      <td>DELUXE</td>\n      <td>0.00</td>\n      <td>17 Sep 2020</td>\n      <td>18 Sep 2020</td>\n      <td>368.33</td>\n      <td>0323 Lisa Station Apt. 208\\nPort Thomas, LA 82585</td>\n      <td>38983476971380</td>\n    </tr>\n    <tr>\n      <th>3</th>\n      <td>gsims@terry.com</td>\n      <td>False</td>\n      <td>BASIC</td>\n      <td>NaN</td>\n      <td>28 Dec 2020</td>\n      <td>31 Dec 2020</td>\n      <td>115.61</td>\n      <td>77 Massachusetts Ave\\nCambridge, MA 02139</td>\n      <td>4969551998845740</td>\n    </tr>\n    <tr>\n      <th>4</th>\n      <td>misty33@smith.biz</td>\n      <td>False</td>\n      <td>BASIC</td>\n      <td>16.45</td>\n      <td>05 Apr 2020</td>\n      <td>NaN</td>\n      <td>122.41</td>\n      <td>1234 Corporate Drive\\nBoston, MA 02116</td>\n      <td>3558512986488983</td>\n    </tr>\n  </tbody>\n</table>\n</div>",
						"application/vnd.dataframe+json": {
							"data": [
								{
									"_dr_df_index": 0,
									"guest_email": "michaelsanders@shaw.net",
									"has_rewards": false,
									"room_type": "BASIC",
									"amenities_fee": 37.89,
									"checkin_date": "27 Dec 2020",
									"checkout_date": "29 Dec 2020",
									"room_rate": 131.23,
									"billing_address": "49380 Rivers Street\nSpencerville, AK 68265",
									"credit_card_number": 4075084747483975700
								},
								{
									"_dr_df_index": 1,
									"guest_email": "randy49@brown.biz",
									"has_rewards": false,
									"room_type": "BASIC",
									"amenities_fee": 24.37,
									"checkin_date": "30 Dec 2020",
									"checkout_date": "02 Jan 2021",
									"room_rate": 114.43,
									"billing_address": "88394 Boyle Meadows\nConleyberg, TN 22063",
									"credit_card_number": 180072822063468
								},
								{
									"_dr_df_index": 2,
									"guest_email": "webermelissa@neal.com",
									"has_rewards": true,
									"room_type": "DELUXE",
									"amenities_fee": 0,
									"checkin_date": "17 Sep 2020",
									"checkout_date": "18 Sep 2020",
									"room_rate": 368.33,
									"billing_address": "0323 Lisa Station Apt. 208\nPort Thomas, LA 82585",
									"credit_card_number": 38983476971380
								},
								{
									"_dr_df_index": 3,
									"guest_email": "gsims@terry.com",
									"has_rewards": false,
									"room_type": "BASIC",
									"amenities_fee": null,
									"checkin_date": "28 Dec 2020",
									"checkout_date": "31 Dec 2020",
									"room_rate": 115.61,
									"billing_address": "77 Massachusetts Ave\nCambridge, MA 02139",
									"credit_card_number": 4969551998845740
								},
								{
									"_dr_df_index": 4,
									"guest_email": "misty33@smith.biz",
									"has_rewards": false,
									"room_type": "BASIC",
									"amenities_fee": 16.45,
									"checkin_date": "05 Apr 2020",
									"checkout_date": null,
									"room_rate": 122.41,
									"billing_address": "1234 Corporate Drive\nBoston, MA 02116",
									"credit_card_number": 3558512986488983
								}
							],
							"columns": [
								{
									"name": "_dr_df_index",
									"type": "integer"
								},
								{
									"name": "guest_email",
									"type": "string"
								},
								{
									"name": "has_rewards",
									"type": "boolean"
								},
								{
									"name": "room_type",
									"type": "string"
								},
								{
									"name": "amenities_fee",
									"type": "number"
								},
								{
									"name": "checkin_date",
									"type": "string"
								},
								{
									"name": "checkout_date",
									"type": "string"
								},
								{
									"name": "room_rate",
									"type": "number"
								},
								{
									"name": "billing_address",
									"type": "string"
								},
								{
									"name": "credit_card_number",
									"type": "integer"
								}
							],
							"count": 5,
							"totalCount": 5,
							"offset": 0,
							"limit": 10,
							"referenceId": 139756015498000,
							"sortedBy": "",
							"indexKey": "_dr_df_index",
							"error": []
						}
					},
					"metadata": {}
				}
			],
			"execution_count": 4
		},
		{
			"id": "65acfb2bbea5d4bae1e2a547",
			"cell_type": "markdown",
			"source": "## Create a synthesizer",
			"metadata": {
				"collapsed": false,
				"scrolled": false,
				"datarobot": {
					"language": "markdown"
				},
				"hide_code": false,
				"hide_results": false,
				"disable_run": false,
				"chart_settings": null,
				"custom_metric_settings": null,
				"dataframe_view_options": null
			}
		},
		{
			"id": "65acfb5a91dd89fea0720d0c",
			"cell_type": "code",
			"source": "from sdv.lite import SingleTablePreset\n\nsynthesizer = SingleTablePreset(\n    metadata,\n    name='FAST_ML'\n)",
			"metadata": {
				"collapsed": false,
				"scrolled": false,
				"datarobot": {
					"language": "python"
				},
				"hide_code": false,
				"hide_results": false,
				"disable_run": false,
				"chart_settings": null,
				"custom_metric_settings": null,
				"dataframe_view_options": null
			},
			"outputs": [],
			"execution_count": null
		},
		{
			"id": "65ad00e26664c8b46c72ec8b",
			"cell_type": "markdown",
			"source": "## Train the synthesizer",
			"metadata": {
				"collapsed": false,
				"scrolled": false,
				"datarobot": {
					"language": "markdown"
				},
				"hide_code": false,
				"hide_results": false,
				"disable_run": false,
				"chart_settings": null,
				"custom_metric_settings": null,
				"dataframe_view_options": null
			}
		},
		{
			"id": "65acfb8791dd89fea0720d19",
			"cell_type": "code",
			"source": "# Train the synthesizer\nsynthesizer.fit(\n    data=real_data\n)",
			"metadata": {
				"collapsed": false,
				"scrolled": false,
				"datarobot": {
					"language": "python"
				},
				"hide_code": false,
				"hide_results": false,
				"disable_run": false,
				"chart_settings": null,
				"custom_metric_settings": null,
				"dataframe_view_options": null
			},
			"outputs": [],
			"execution_count": null
		},
		{
			"id": "65ad00e6bb7a667c6f501ae0",
			"cell_type": "markdown",
			"source": "## Generate synthetic dataset",
			"metadata": {
				"collapsed": false,
				"scrolled": false,
				"datarobot": {
					"language": "markdown"
				},
				"hide_code": false,
				"hide_results": false,
				"disable_run": false,
				"chart_settings": null,
				"custom_metric_settings": null,
				"dataframe_view_options": null
			}
		},
		{
			"id": "65acfbafbea5d4bae1e2a574",
			"cell_type": "code",
			"source": "synthetic_data = synthesizer.sample(\n    num_rows=10000\n)\n\nsynthetic_data.head()",
			"metadata": {
				"collapsed": false,
				"scrolled": false,
				"datarobot": {
					"language": "python"
				},
				"hide_code": false,
				"hide_results": false,
				"disable_run": false,
				"chart_settings": null,
				"custom_metric_settings": null,
				"dataframe_view_options": null
			},
			"outputs": [
				{
					"output_type": "execute_result",
					"execution_count": 7,
					"data": {
						"text/plain": "                    guest_email  has_rewards room_type  amenities_fee  \\\n0         dsullivan@example.net        False    DELUXE      10.385184   \n1          steven59@example.org        False     BASIC            NaN   \n2         brandon15@example.net        False     BASIC      22.700956   \n3  humphreyjennifer@example.net        False     BASIC      23.497404   \n4       joshuabrown@example.net        False    DELUXE      20.162318   \n\n  checkin_date checkout_date   room_rate  \\\n0  03 Apr 2020   23 Apr 2020  149.354932   \n1  04 Jul 2020   24 Aug 2020  179.634314   \n2  20 Apr 2020   14 Apr 2020  145.658788   \n3  20 May 2020   05 Jun 2020  187.945019   \n4  05 Jan 2020   07 Jan 2020  190.691273   \n\n                                     billing_address   credit_card_number  \n0   90469 Karla Knolls Apt. 781\\nSusanberg, CA 70033     5161033759518983  \n1     6108 Carla Ports Apt. 116\\nPort Evan, MI 71694  4133047413145475690  \n2  86709 Jeremy Manors Apt. 786\\nPort Garychester...        4977328103788  \n3            8906 Bobby Trail\\nEast Sandra, NY 43986     3524946844839485  \n4       732 Dennis Lane\\nPort Nicholasstad, DE 49786  4446905799576890978  ",
						"text/html": "<div>\n<style scoped>\n    .dataframe tbody tr th:only-of-type {\n        vertical-align: middle;\n    }\n\n    .dataframe tbody tr th {\n        vertical-align: top;\n    }\n\n    .dataframe thead th {\n        text-align: right;\n    }\n</style>\n<table border=\"1\" class=\"dataframe\">\n  <thead>\n    <tr style=\"text-align: right;\">\n      <th></th>\n      <th>guest_email</th>\n      <th>has_rewards</th>\n      <th>room_type</th>\n      <th>amenities_fee</th>\n      <th>checkin_date</th>\n      <th>checkout_date</th>\n      <th>room_rate</th>\n      <th>billing_address</th>\n      <th>credit_card_number</th>\n    </tr>\n  </thead>\n  <tbody>\n    <tr>\n      <th>0</th>\n      <td>dsullivan@example.net</td>\n      <td>False</td>\n      <td>DELUXE</td>\n      <td>10.385184</td>\n      <td>03 Apr 2020</td>\n      <td>23 Apr 2020</td>\n      <td>149.354932</td>\n      <td>90469 Karla Knolls Apt. 781\\nSusanberg, CA 70033</td>\n      <td>5161033759518983</td>\n    </tr>\n    <tr>\n      <th>1</th>\n      <td>steven59@example.org</td>\n      <td>False</td>\n      <td>BASIC</td>\n      <td>NaN</td>\n      <td>04 Jul 2020</td>\n      <td>24 Aug 2020</td>\n      <td>179.634314</td>\n      <td>6108 Carla Ports Apt. 116\\nPort Evan, MI 71694</td>\n      <td>4133047413145475690</td>\n    </tr>\n    <tr>\n      <th>2</th>\n      <td>brandon15@example.net</td>\n      <td>False</td>\n      <td>BASIC</td>\n      <td>22.700956</td>\n      <td>20 Apr 2020</td>\n      <td>14 Apr 2020</td>\n      <td>145.658788</td>\n      <td>86709 Jeremy Manors Apt. 786\\nPort Garychester...</td>\n      <td>4977328103788</td>\n    </tr>\n    <tr>\n      <th>3</th>\n      <td>humphreyjennifer@example.net</td>\n      <td>False</td>\n      <td>BASIC</td>\n      <td>23.497404</td>\n      <td>20 May 2020</td>\n      <td>05 Jun 2020</td>\n      <td>187.945019</td>\n      <td>8906 Bobby Trail\\nEast Sandra, NY 43986</td>\n      <td>3524946844839485</td>\n    </tr>\n    <tr>\n      <th>4</th>\n      <td>joshuabrown@example.net</td>\n      <td>False</td>\n      <td>DELUXE</td>\n      <td>20.162318</td>\n      <td>05 Jan 2020</td>\n      <td>07 Jan 2020</td>\n      <td>190.691273</td>\n      <td>732 Dennis Lane\\nPort Nicholasstad, DE 49786</td>\n      <td>4446905799576890978</td>\n    </tr>\n  </tbody>\n</table>\n</div>",
						"application/vnd.dataframe+json": {
							"data": [
								{
									"_dr_df_index": 0,
									"guest_email": "dsullivan@example.net",
									"has_rewards": false,
									"room_type": "DELUXE",
									"amenities_fee": 10.3851842178,
									"checkin_date": "03 Apr 2020",
									"checkout_date": "23 Apr 2020",
									"room_rate": 149.3549321978,
									"billing_address": "90469 Karla Knolls Apt. 781\nSusanberg, CA 70033",
									"credit_card_number": 5161033759518983
								},
								{
									"_dr_df_index": 1,
									"guest_email": "steven59@example.org",
									"has_rewards": false,
									"room_type": "BASIC",
									"amenities_fee": null,
									"checkin_date": "04 Jul 2020",
									"checkout_date": "24 Aug 2020",
									"room_rate": 179.6343136793,
									"billing_address": "6108 Carla Ports Apt. 116\nPort Evan, MI 71694",
									"credit_card_number": 4133047413145475600
								},
								{
									"_dr_df_index": 2,
									"guest_email": "brandon15@example.net",
									"has_rewards": false,
									"room_type": "BASIC",
									"amenities_fee": 22.7009555881,
									"checkin_date": "20 Apr 2020",
									"checkout_date": "14 Apr 2020",
									"room_rate": 145.6587880607,
									"billing_address": "86709 Jeremy Manors Apt. 786\nPort Garychester, NY 89396",
									"credit_card_number": 4977328103788
								},
								{
									"_dr_df_index": 3,
									"guest_email": "humphreyjennifer@example.net",
									"has_rewards": false,
									"room_type": "BASIC",
									"amenities_fee": 23.4974040218,
									"checkin_date": "20 May 2020",
									"checkout_date": "05 Jun 2020",
									"room_rate": 187.9450194173,
									"billing_address": "8906 Bobby Trail\nEast Sandra, NY 43986",
									"credit_card_number": 3524946844839485
								},
								{
									"_dr_df_index": 4,
									"guest_email": "joshuabrown@example.net",
									"has_rewards": false,
									"room_type": "DELUXE",
									"amenities_fee": 20.1623177703,
									"checkin_date": "05 Jan 2020",
									"checkout_date": "07 Jan 2020",
									"room_rate": 190.6912733156,
									"billing_address": "732 Dennis Lane\nPort Nicholasstad, DE 49786",
									"credit_card_number": 4446905799576891000
								}
							],
							"columns": [
								{
									"name": "_dr_df_index",
									"type": "integer"
								},
								{
									"name": "guest_email",
									"type": "string"
								},
								{
									"name": "has_rewards",
									"type": "boolean"
								},
								{
									"name": "room_type",
									"type": "string"
								},
								{
									"name": "amenities_fee",
									"type": "number"
								},
								{
									"name": "checkin_date",
									"type": "string"
								},
								{
									"name": "checkout_date",
									"type": "string"
								},
								{
									"name": "room_rate",
									"type": "number"
								},
								{
									"name": "billing_address",
									"type": "string"
								},
								{
									"name": "credit_card_number",
									"type": "integer"
								}
							],
							"count": 5,
							"totalCount": 5,
							"offset": 0,
							"limit": 10,
							"referenceId": 140385034960976,
							"sortedBy": "",
							"indexKey": "_dr_df_index",
							"error": []
						}
					},
					"metadata": {}
				}
			],
			"execution_count": null
		},
		{
			"id": "65ad014891dd89fea0720eed",
			"cell_type": "markdown",
			"source": "## Evaluate synthetic data quality",
			"metadata": {
				"collapsed": false,
				"scrolled": false,
				"datarobot": {
					"language": "markdown"
				},
				"hide_code": false,
				"hide_results": false,
				"disable_run": false,
				"chart_settings": null,
				"custom_metric_settings": null,
				"dataframe_view_options": null
			}
		},
		{
			"id": "65acfc5e6664c8b46c72eb1d",
			"cell_type": "code",
			"source": "from sdv.evaluation.single_table import evaluate_quality\n\nquality_report = evaluate_quality(\n    real_data,\n    synthetic_data,\n    metadata\n)",
			"metadata": {
				"collapsed": false,
				"scrolled": false,
				"datarobot": {
					"language": "python"
				},
				"hide_code": false,
				"hide_results": false,
				"disable_run": false,
				"chart_settings": null,
				"custom_metric_settings": null,
				"dataframe_view_options": null
			},
			"outputs": [
				{
					"output_type": "execute_result",
					"execution_count": 6,
					"data": {
						"text/plain": "Generating report ...\n\r(1/2) Evaluating Column Shapes: : 100%|██████████| 9/9 [00:00<00:00, 203.40it/s]\n\r(2/2) Evaluating Column Pair Trends: : 100%|██████████| 36/36 [00:00<00:00, 98.74it/s]\nOverall Score: 90.52%\nProperties:\n- Column Shapes: 92.26%\n- Column Pair Trends: 88.78%\n"
					},
					"metadata": {}
				}
			],
			"execution_count": null
		},
		{
			"id": "65acf85891dd89fea0720c10",
			"cell_type": "markdown",
			"source": "## Load synthetic dataset into AI Catalog",
			"metadata": {
				"collapsed": false,
				"scrolled": false,
				"datarobot": {
					"language": "markdown"
				},
				"hide_code": false,
				"hide_results": false,
				"disable_run": false,
				"chart_settings": null,
				"custom_metric_settings": null,
				"dataframe_view_options": null
			}
		},
		{
			"id": "65acf85891dd89fea0720c11",
			"cell_type": "code",
			"source": "# upload synthetic data\nimport datarobot as dr\n\nds = dr.Dataset.upload(synthetic_data)",
			"metadata": {
				"collapsed": false,
				"scrolled": false,
				"datarobot": {
					"language": "python"
				},
				"hide_code": false,
				"hide_results": false,
				"disable_run": false,
				"chart_settings": null,
				"custom_metric_settings": null,
				"dataframe_view_options": null
			},
			"outputs": [],
			"execution_count": null
		},
		{
			"id": "65acf85891dd89fea0720c14",
			"cell_type": "markdown",
			"source": "## Initiate autopilot",
			"metadata": {
				"collapsed": false,
				"scrolled": false,
				"datarobot": {
					"language": "markdown"
				},
				"hide_code": false,
				"hide_results": false,
				"disable_run": false,
				"chart_settings": null,
				"custom_metric_settings": null,
				"dataframe_view_options": null
			}
		},
		{
			"id": "65acf85891dd89fea0720c15",
			"cell_type": "code",
			"source": "from datarobot import AUTOPILOT_MODE\n\nproject = dr.Project.create_from_dataset(ds.id, project_name='Synthetic Hotel Guests Data')\n\nproject.analyze_and_model(\n    target=\"has_rewards\", worker_count=-1, mode=AUTOPILOT_MODE.QUICK\n)",
			"metadata": {
				"collapsed": false,
				"scrolled": false,
				"datarobot": {
					"language": "python"
				},
				"hide_code": false,
				"hide_results": false,
				"disable_run": false,
				"chart_settings": null,
				"custom_metric_settings": null,
				"dataframe_view_options": null
			},
			"outputs": [
				{
					"output_type": "execute_result",
					"execution_count": 10,
					"data": {
						"text/plain": "Project(Synthetic Hotel Guests Data)"
					},
					"metadata": {}
				}
			],
			"execution_count": null
		},
		{
			"id": "65ad0c0891dd89fea0721251",
			"cell_type": "code",
			"source": "#import datarobot as dr\n\n#project = dr.Project.get(project_id='65ad003e58a6150083c1d80d')\n#project.project_name",
			"metadata": {
				"name": "Testing",
				"collapsed": false,
				"scrolled": false,
				"datarobot": {
					"language": "python"
				},
				"hide_code": false,
				"hide_results": false,
				"disable_run": false,
				"chart_settings": null,
				"custom_metric_settings": null,
				"dataframe_view_options": null
			},
			"outputs": [
				{
					"output_type": "execute_result",
					"execution_count": 3,
					"data": {
						"text/plain": "'Synthetic Hotel Guests Data'"
					},
					"metadata": {}
				}
			],
			"execution_count": 3
		},
		{
			"id": "65acf85891dd89fea0720c16",
			"cell_type": "markdown",
			"source": "## Retrieve top performing model",
			"metadata": {
				"collapsed": false,
				"scrolled": false,
				"datarobot": {
					"language": "markdown"
				},
				"hide_code": false,
				"hide_results": false,
				"disable_run": false,
				"chart_settings": null,
				"custom_metric_settings": null,
				"dataframe_view_options": null
			}
		},
		{
			"id": "65acf85891dd89fea0720c17",
			"cell_type": "code",
			"source": "def sorted_by_metric(models, test_set, metric):\n    models_with_score = [model for model in models if model.metrics[metric][test_set] is not None]\n\n    return sorted(models_with_score, key=lambda model: model.metrics[metric][test_set])\n\n\nmodels = project.get_models()\n\nmetric = project.metric\n\n# Get the top-performing model\nmodel_top = sorted_by_metric(models, \"crossValidation\", metric)[0]\n\nprint(\n    \"\"\"The top performing model is {model} using metric, {metric}\"\"\".format(\n        model=str(model_top), metric=metric\n    )\n)",
			"metadata": {
				"collapsed": false,
				"scrolled": false,
				"datarobot": {
					"language": "python"
				},
				"hide_code": false,
				"hide_results": false,
				"disable_run": false,
				"chart_settings": null,
				"custom_metric_settings": null,
				"dataframe_view_options": null
			},
			"outputs": [
				{
					"output_type": "execute_result",
					"execution_count": 4,
					"data": {
						"text/plain": "The top performing model is Model('Light Gradient Boosting on ElasticNet Predictions ') using metric, LogLoss\n"
					},
					"metadata": {}
				}
			],
			"execution_count": 4
		},
		{
			"id": "65acf85891dd89fea0720c18",
			"cell_type": "markdown",
			"source": "## Deploy chosen model",
			"metadata": {
				"collapsed": false,
				"scrolled": false,
				"datarobot": {
					"language": "markdown"
				},
				"hide_code": false,
				"hide_results": false,
				"disable_run": false,
				"chart_settings": null,
				"custom_metric_settings": null,
				"dataframe_view_options": null
			}
		},
		{
			"id": "65acf85891dd89fea0720c19",
			"cell_type": "code",
			"source": "# Get the prediction server\nprediction_server = dr.PredictionServer.list()[0]\n\n# Create a deployment\ndeployment = dr.Deployment.create_from_learning_model(\n    model_top.id,\n    label=\"Synthetic data test\",\n    description=\"Model trained on synthetic dataset with names, addresses, etc.\",\n    default_prediction_server_id=prediction_server.id,\n)\ndeployment.id",
			"metadata": {
				"collapsed": false,
				"scrolled": false,
				"datarobot": {
					"language": "python"
				},
				"hide_code": false,
				"hide_results": false,
				"disable_run": false,
				"chart_settings": null,
				"custom_metric_settings": null,
				"dataframe_view_options": null
			},
			"outputs": [
				{
					"output_type": "execute_result",
					"execution_count": 12,
					"data": {
						"text/plain": "'65ad01e08824b6e34592359d'"
					},
					"metadata": {}
				}
			],
			"execution_count": null
		},
		{
			"id": "65ad16376664c8b46c72f337",
			"cell_type": "markdown",
			"source": "## Test model - optional",
			"metadata": {
				"collapsed": false,
				"scrolled": false,
				"datarobot": {
					"language": "markdown"
				},
				"hide_code": false,
				"hide_results": false,
				"disable_run": false,
				"chart_settings": null,
				"custom_metric_settings": null,
				"dataframe_view_options": null
			}
		},
		{
			"id": "65ad16246664c8b46c72f330",
			"cell_type": "code",
			"source": "# Test predictions on new data\nimport datarobot as dr\n\ntest_dataset = synthesizer.sample(\n    num_rows=1000\n)\nts = dr.Dataset.upload(test_dataset)\nts.modify(name='synthetic hotel guest test data', categories='PREDICTION')\n",
			"metadata": {
				"collapsed": false,
				"scrolled": false,
				"datarobot": {
					"language": "python"
				},
				"hide_code": false,
				"hide_results": false,
				"disable_run": false,
				"chart_settings": null,
				"custom_metric_settings": null,
				"dataframe_view_options": null
			},
			"outputs": [],
			"execution_count": null
		}
	],
	"metadata": {
		"kernelspec": {
			"name": "python",
			"language": "python",
			"display_name": "[DataRobot] Python 3.11 Notebook Drop-In"
		},
		"language_info": {
			"name": "python",
			"version": ""
		}
	},
	"nbformat": 4,
	"nbformat_minor": 5
}
